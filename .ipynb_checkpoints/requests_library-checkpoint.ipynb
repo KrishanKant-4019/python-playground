{
 "cells": [
  {
   "cell_type": "markdown",
   "id": "cde141b7-c9e7-4276-b693-d57c24808103",
   "metadata": {},
   "source": [
    "# Import the Library"
   ]
  },
  {
   "cell_type": "code",
   "execution_count": 17,
   "id": "d1f56862-6c34-44c0-a227-df3fe9c9d099",
   "metadata": {},
   "outputs": [],
   "source": [
    "import requests"
   ]
  },
  {
   "cell_type": "markdown",
   "id": "4db1891c-d684-448a-9986-90a1a1fe76ce",
   "metadata": {},
   "source": [
    "# Basic GET request"
   ]
  },
  {
   "cell_type": "code",
   "execution_count": 18,
   "id": "f51b8d64-9f86-445f-9295-db667ae85c95",
   "metadata": {},
   "outputs": [
    {
     "name": "stdout",
     "output_type": "stream",
     "text": [
      "200\n",
      "application/json; charset=utf-8\n",
      "[\n",
      "  {\n",
      "    \"userId\": 1,\n",
      "    \"id\": 1,\n",
      "    \"title\": \"sunt aut facere repellat provident occaecati excepturi optio reprehenderit\",\n",
      "    \"body\": \"quia et suscipit\\nsuscipit recusandae consequuntur expedita \n"
     ]
    }
   ],
   "source": [
    "response = requests.get(\"https://jsonplaceholder.typicode.com/posts\")\n",
    "print(response.status_code)\n",
    "print(response.headers[\"Content-Type\"])\n",
    "print(response.text[:200])"
   ]
  },
  {
   "cell_type": "markdown",
   "id": "8f72a66c-a5e3-413e-b2a1-689c39f72c3c",
   "metadata": {},
   "source": [
    "# JSON response"
   ]
  },
  {
   "cell_type": "code",
   "execution_count": 19,
   "id": "e2403d61-bb5e-4930-a0c8-9540e2214b1d",
   "metadata": {},
   "outputs": [
    {
     "name": "stdout",
     "output_type": "stream",
     "text": [
      "{'userId': 1, 'id': 1, 'title': 'sunt aut facere repellat provident occaecati excepturi optio reprehenderit', 'body': 'quia et suscipit\\nsuscipit recusandae consequuntur expedita et cum\\nreprehenderit molestiae ut ut quas totam\\nnostrum rerum est autem sunt rem eveniet architecto'}\n"
     ]
    }
   ],
   "source": [
    "data = response.json()\n",
    "print(data[0])"
   ]
  },
  {
   "cell_type": "markdown",
   "id": "42a7a1bf-8c3e-495d-a08f-2b5fbcba3bc1",
   "metadata": {},
   "source": [
    "# Passing Query Parameters (params)"
   ]
  },
  {
   "cell_type": "code",
   "execution_count": 20,
   "id": "a4258b4c-c59c-46bd-8076-49fb2e2024a5",
   "metadata": {},
   "outputs": [
    {
     "name": "stdout",
     "output_type": "stream",
     "text": [
      "https://jsonplaceholder.typicode.com/posts?userId=1\n",
      "[{'userId': 1, 'id': 1, 'title': 'sunt aut facere repellat provident occaecati excepturi optio reprehenderit', 'body': 'quia et suscipit\\nsuscipit recusandae consequuntur expedita et cum\\nreprehenderit molestiae ut ut quas totam\\nnostrum rerum est autem sunt rem eveniet architecto'}, {'userId': 1, 'id': 2, 'title': 'qui est esse', 'body': 'est rerum tempore vitae\\nsequi sint nihil reprehenderit dolor beatae ea dolores neque\\nfugiat blanditiis voluptate porro vel nihil molestiae ut reiciendis\\nqui aperiam non debitis possimus qui neque nisi nulla'}, {'userId': 1, 'id': 3, 'title': 'ea molestias quasi exercitationem repellat qui ipsa sit aut', 'body': 'et iusto sed quo iure\\nvoluptatem occaecati omnis eligendi aut ad\\nvoluptatem doloribus vel accusantium quis pariatur\\nmolestiae porro eius odio et labore et velit aut'}, {'userId': 1, 'id': 4, 'title': 'eum et est occaecati', 'body': 'ullam et saepe reiciendis voluptatem adipisci\\nsit amet autem assumenda provident rerum culpa\\nquis hic commodi nesciunt rem tenetur doloremque ipsam iure\\nquis sunt voluptatem rerum illo velit'}, {'userId': 1, 'id': 5, 'title': 'nesciunt quas odio', 'body': 'repudiandae veniam quaerat sunt sed\\nalias aut fugiat sit autem sed est\\nvoluptatem omnis possimus esse voluptatibus quis\\nest aut tenetur dolor neque'}, {'userId': 1, 'id': 6, 'title': 'dolorem eum magni eos aperiam quia', 'body': 'ut aspernatur corporis harum nihil quis provident sequi\\nmollitia nobis aliquid molestiae\\nperspiciatis et ea nemo ab reprehenderit accusantium quas\\nvoluptate dolores velit et doloremque molestiae'}, {'userId': 1, 'id': 7, 'title': 'magnam facilis autem', 'body': 'dolore placeat quibusdam ea quo vitae\\nmagni quis enim qui quis quo nemo aut saepe\\nquidem repellat excepturi ut quia\\nsunt ut sequi eos ea sed quas'}, {'userId': 1, 'id': 8, 'title': 'dolorem dolore est ipsam', 'body': 'dignissimos aperiam dolorem qui eum\\nfacilis quibusdam animi sint suscipit qui sint possimus cum\\nquaerat magni maiores excepturi\\nipsam ut commodi dolor voluptatum modi aut vitae'}, {'userId': 1, 'id': 9, 'title': 'nesciunt iure omnis dolorem tempora et accusantium', 'body': 'consectetur animi nesciunt iure dolore\\nenim quia ad\\nveniam autem ut quam aut nobis\\net est aut quod aut provident voluptas autem voluptas'}, {'userId': 1, 'id': 10, 'title': 'optio molestias id quia eum', 'body': 'quo et expedita modi cum officia vel magni\\ndoloribus qui repudiandae\\nvero nisi sit\\nquos veniam quod sed accusamus veritatis error'}]\n"
     ]
    }
   ],
   "source": [
    "params = {\"userId\": 1}\n",
    "response = requests.get(\"https://jsonplaceholder.typicode.com/posts\", params = params)\n",
    "print(response.url)\n",
    "print(response.json())"
   ]
  },
  {
   "cell_type": "markdown",
   "id": "421eb2af-118f-497f-ad3c-f7b2a248b7aa",
   "metadata": {},
   "source": [
    "# POST request (Sending Data)"
   ]
  },
  {
   "cell_type": "code",
   "execution_count": 21,
   "id": "52916d5b-a347-48ed-8655-2495851ac8fa",
   "metadata": {},
   "outputs": [
    {
     "name": "stdout",
     "output_type": "stream",
     "text": [
      "201\n",
      "{'userId': 1, 'title': 'My Post', 'body': 'Learning Requests!', 'id': 101}\n"
     ]
    }
   ],
   "source": [
    "payload = {\"userId\": 1, \"title\": \"My Post\", \"body\": \"Learning Requests!\"}\n",
    "response = requests.post(\"https://jsonplaceholder.typicode.com/posts\", json = payload)\n",
    "print(response.status_code)\n",
    "print(response.json())"
   ]
  },
  {
   "cell_type": "markdown",
   "id": "3c98e959-17d9-492a-8c7e-243cc0c6bdbd",
   "metadata": {},
   "source": [
    "# Custom Headers"
   ]
  },
  {
   "cell_type": "code",
   "execution_count": 22,
   "id": "3b5c0e99-3e53-4c7b-ba1f-ca1309e057ab",
   "metadata": {},
   "outputs": [
    {
     "name": "stdout",
     "output_type": "stream",
     "text": [
      "{'User-Agent': 'python-requests/2.32.5', 'Accept-Encoding': 'gzip, deflate, br, zstd', 'Accept': '*/*', 'Connection': 'keep-alive', 'Content-Type': 'application/json', 'Custom-Header': 'Learning'}\n"
     ]
    }
   ],
   "source": [
    "headers = {\"Content-Type\": \"application/json\", \"Custom-Header\": \"Learning\"}\n",
    "response = requests.get(\"https://jsonplaceholder.typicode.com/posts\", headers = headers)\n",
    "print(response.request.headers)"
   ]
  },
  {
   "cell_type": "markdown",
   "id": "cf1631c8-1614-4e3a-9298-29070c8939df",
   "metadata": {},
   "source": [
    "# Cookies"
   ]
  },
  {
   "cell_type": "code",
   "execution_count": 26,
   "id": "55634e56-a7fa-480b-8438-45141f6f7726",
   "metadata": {},
   "outputs": [
    {
     "name": "stdout",
     "output_type": "stream",
     "text": [
      "200\n",
      "{'cookies': {'session_id': '12345'}}\n"
     ]
    }
   ],
   "source": [
    "response = requests.get(\"https://httpbin.org/cookies\", cookies = {\"session_id\": \"12345\"})\n",
    "print(response.status_code)\n",
    "print(response.json())                        "
   ]
  },
  {
   "cell_type": "markdown",
   "id": "3ad5d66a-0a28-48d5-b58d-83824de29098",
   "metadata": {},
   "source": [
    "# Sending Form Data"
   ]
  },
  {
   "cell_type": "code",
   "execution_count": 32,
   "id": "ab60442e-6b6e-4402-b7b8-fbeb1516f328",
   "metadata": {},
   "outputs": [
    {
     "name": "stdout",
     "output_type": "stream",
     "text": [
      "{'args': {}, 'data': '', 'files': {}, 'form': {'password': '1234567890', 'username': 'Krishan Kant Jha'}, 'headers': {'Accept': '*/*', 'Accept-Encoding': 'gzip, deflate, br, zstd', 'Content-Length': '45', 'Content-Type': 'application/x-www-form-urlencoded', 'Host': 'httpbin.org', 'User-Agent': 'python-requests/2.32.5', 'X-Amzn-Trace-Id': 'Root=1-68e3f25c-244197271821b57447a29f3d'}, 'json': None, 'origin': '122.161.52.113', 'url': 'https://httpbin.org/post'}\n"
     ]
    }
   ],
   "source": [
    "form_data = {\"username\": \"Krishan Kant Jha\", \"password\": \"1234567890\"}\n",
    "response = requests.post(\"https://httpbin.org/post\", data = form_data)\n",
    "print(response.json())"
   ]
  },
  {
   "cell_type": "markdown",
   "id": "e6f8d12c-0364-4b3d-8db3-b657f1bb1efb",
   "metadata": {},
   "source": [
    "# Uploading Files"
   ]
  },
  {
   "cell_type": "code",
   "execution_count": 41,
   "id": "c782dc7d-aefd-4a9b-a81a-5140be0515ca",
   "metadata": {},
   "outputs": [
    {
     "name": "stdout",
     "output_type": "stream",
     "text": [
      "200\n",
      "{'args': {}, 'data': '', 'files': {'file': 'age,gender,fever,cough,city,has_covid\\r\\n60,Male,103.0,Mild,Kolkata,No\\r\\n27,Male,100.0,Mild,Delhi,Yes\\r\\n42,Male,101.0,Mild,Delhi,No\\r\\n31,Female,98.0,Mild,Kolkata,No\\r\\n65,Female,101.0,Mild,Mumbai,No\\r\\n84,Female,,Mild,Bangalore,Yes\\r\\n14,Male,101.0,Strong,Bangalore,No\\r\\n20,Female,,Strong,Mumbai,Yes\\r\\n19,Female,100.0,Strong,Bangalore,No\\r\\n64,Female,101.0,Mild,Delhi,No\\r\\n75,Female,,Mild,Delhi,No\\r\\n65,Female,98.0,Mild,Mumbai,Yes\\r\\n25,Female,99.0,Strong,Kolkata,No\\r\\n64,Male,102.0,Mild,Bangalore,Yes\\r\\n51,Male,104.0,Mild,Bangalore,No\\r\\n70,Male,103.0,Strong,Kolkata,Yes\\r\\n69,Female,103.0,Mild,Kolkata,Yes\\r\\n40,Female,98.0,Strong,Delhi,No\\r\\n64,Female,98.0,Mild,Bangalore,Yes\\r\\n42,Female,,Strong,Bangalore,Yes\\r\\n12,Male,98.0,Strong,Bangalore,No\\r\\n73,Male,98.0,Mild,Bangalore,Yes\\r\\n71,Female,98.0,Strong,Kolkata,Yes\\r\\n80,Female,98.0,Mild,Delhi,Yes\\r\\n13,Female,100.0,Strong,Kolkata,No\\r\\n23,Male,,Mild,Mumbai,No\\r\\n19,Female,100.0,Mild,Kolkata,Yes\\r\\n33,Female,102.0,Strong,Delhi,No\\r\\n16,Male,104.0,Mild,Kolkata,No\\r\\n34,Female,,Strong,Mumbai,Yes\\r\\n15,Male,101.0,Mild,Delhi,Yes\\r\\n83,Male,103.0,Mild,Kolkata,No\\r\\n34,Female,101.0,Strong,Delhi,Yes\\r\\n26,Female,98.0,Mild,Kolkata,No\\r\\n74,Male,102.0,Mild,Mumbai,Yes\\r\\n82,Female,102.0,Strong,Bangalore,No\\r\\n38,Female,101.0,Mild,Bangalore,No\\r\\n55,Male,100.0,Mild,Kolkata,No\\r\\n49,Female,101.0,Mild,Delhi,Yes\\r\\n50,Female,103.0,Mild,Kolkata,No\\r\\n49,Female,102.0,Mild,Delhi,No\\r\\n82,Male,,Mild,Kolkata,Yes\\r\\n27,Male,100.0,Mild,Delhi,Yes\\r\\n22,Female,99.0,Mild,Bangalore,Yes\\r\\n20,Male,102.0,Strong,Delhi,No\\r\\n72,Male,99.0,Mild,Bangalore,No\\r\\n19,Female,101.0,Mild,Mumbai,No\\r\\n18,Female,104.0,Mild,Bangalore,No\\r\\n66,Male,99.0,Strong,Bangalore,No\\r\\n44,Male,104.0,Mild,Mumbai,No\\r\\n19,Male,101.0,Mild,Delhi,Yes\\r\\n11,Female,100.0,Strong,Kolkata,Yes\\r\\n47,Female,100.0,Strong,Bangalore,Yes\\r\\n83,Male,98.0,Mild,Delhi,Yes\\r\\n60,Female,99.0,Mild,Mumbai,Yes\\r\\n81,Female,101.0,Mild,Mumbai,Yes\\r\\n71,Male,,Strong,Kolkata,No\\r\\n49,Female,99.0,Strong,Bangalore,No\\r\\n23,Male,98.0,Strong,Mumbai,Yes\\r\\n6,Female,104.0,Mild,Kolkata,Yes\\r\\n24,Female,102.0,Strong,Bangalore,Yes\\r\\n81,Female,98.0,Strong,Mumbai,No\\r\\n56,Female,104.0,Strong,Bangalore,Yes\\r\\n10,Male,100.0,Mild,Bangalore,No\\r\\n42,Male,104.0,Mild,Mumbai,No\\r\\n69,Female,102.0,Mild,Bangalore,No\\r\\n51,Male,104.0,Mild,Kolkata,No\\r\\n65,Male,99.0,Mild,Bangalore,No\\r\\n54,Female,104.0,Strong,Kolkata,No\\r\\n73,Female,103.0,Mild,Delhi,No\\r\\n68,Female,101.0,Strong,Delhi,No\\r\\n75,Female,104.0,Strong,Delhi,No\\r\\n83,Female,101.0,Mild,Kolkata,No\\r\\n34,Male,98.0,Strong,Kolkata,Yes\\r\\n34,Female,104.0,Strong,Delhi,No\\r\\n5,Male,102.0,Mild,Kolkata,Yes\\r\\n80,Male,100.0,Mild,Bangalore,Yes\\r\\n8,Female,101.0,Mild,Kolkata,No\\r\\n11,Male,100.0,Mild,Bangalore,Yes\\r\\n48,Female,103.0,Mild,Kolkata,Yes\\r\\n14,Female,99.0,Mild,Mumbai,Yes\\r\\n65,Male,99.0,Mild,Delhi,No\\r\\n24,Male,98.0,Mild,Kolkata,Yes\\r\\n17,Female,104.0,Mild,Kolkata,No\\r\\n69,Female,98.0,Strong,Mumbai,No\\r\\n16,Female,103.0,Mild,Bangalore,Yes\\r\\n25,Male,104.0,Mild,Bangalore,Yes\\r\\n47,Male,101.0,Strong,Bangalore,No\\r\\n5,Female,100.0,Mild,Kolkata,No\\r\\n46,Male,103.0,Strong,Bangalore,No\\r\\n59,Female,99.0,Strong,Delhi,No\\r\\n38,Male,,Mild,Delhi,Yes\\r\\n82,Female,102.0,Strong,Kolkata,No\\r\\n27,Male,100.0,Mild,Kolkata,Yes\\r\\n79,Male,,Strong,Kolkata,Yes\\r\\n12,Female,104.0,Mild,Bangalore,No\\r\\n51,Female,101.0,Strong,Kolkata,Yes\\r\\n20,Female,101.0,Mild,Bangalore,No\\r\\n5,Female,98.0,Strong,Mumbai,No\\r\\n10,Female,98.0,Strong,Kolkata,Yes\\r\\n'}, 'form': {}, 'headers': {'Accept': '*/*', 'Accept-Encoding': 'gzip, deflate, br, zstd', 'Content-Length': '3445', 'Content-Type': 'multipart/form-data; boundary=314008268a3de3b55bfc2700998f3e4e', 'Host': 'httpbin.org', 'User-Agent': 'python-requests/2.32.5', 'X-Amzn-Trace-Id': 'Root=1-68e3f4b0-323e3fd804632f1b2007a457'}, 'json': None, 'origin': '122.161.52.113', 'url': 'https://httpbin.org/post'}\n"
     ]
    }
   ],
   "source": [
    "files = {\"file\": open(\"covid_toy.csv\", \"rb\")}\n",
    "response = requests.post(\"https://httpbin.org/post\", files = files)\n",
    "print(response.status_code)\n",
    "print(response.json())"
   ]
  },
  {
   "cell_type": "markdown",
   "id": "79b2e12f-396a-45ab-bd04-e2f0a5efcc9b",
   "metadata": {},
   "source": [
    "# Timeout"
   ]
  },
  {
   "cell_type": "code",
   "execution_count": 48,
   "id": "00264e85-d24a-4871-990d-9a38429903bb",
   "metadata": {},
   "outputs": [
    {
     "name": "stdout",
     "output_type": "stream",
     "text": [
      "Request timed out!\n"
     ]
    }
   ],
   "source": [
    "try:\n",
    "    response = requests.get(\"https://httpbin.org/delay/5\", timeout = 2)\n",
    "except requests.exceptions.Timeout:\n",
    "    print(\"Request timed out!\")"
   ]
  },
  {
   "cell_type": "markdown",
   "id": "8af15bd1-4b00-4fd7-811d-6a7b2dc4ccb0",
   "metadata": {},
   "source": [
    "# Handling Authentication"
   ]
  },
  {
   "cell_type": "code",
   "execution_count": 52,
   "id": "4cbe38fb-ebd5-4d7a-a814-dc8d537e5beb",
   "metadata": {},
   "outputs": [
    {
     "name": "stdout",
     "output_type": "stream",
     "text": [
      "200\n",
      "{'authenticated': True, 'user': 'user'}\n"
     ]
    }
   ],
   "source": [
    "response = requests.get(\"https://httpbin.org/basic-auth/user/pass\", auth = (\"user\", \"pass\"))\n",
    "print(response.status_code)\n",
    "print(response.json())"
   ]
  },
  {
   "cell_type": "markdown",
   "id": "2640cc49-c0de-463b-9e0d-55e31d2bcec8",
   "metadata": {},
   "source": [
    "# PUT, PATCH, DELETE requests"
   ]
  },
  {
   "cell_type": "code",
   "execution_count": 56,
   "id": "e8caf261-925d-488a-b44b-c47bb847be6a",
   "metadata": {},
   "outputs": [
    {
     "data": {
      "text/plain": [
       "<Response [200]>"
      ]
     },
     "execution_count": 56,
     "metadata": {},
     "output_type": "execute_result"
    }
   ],
   "source": [
    "requests.put(\"https://jsonplaceholder.typicode.com/posts/1\", json = {\"title\": \"Updated!\"})\n",
    "requests.patch(\"https://jsonplaceholder.typicode.com/posts/1\", json = {\"title\": \"Partially Updated\"})\n",
    "requests.delete(\"https://jsonplaceholder.typicode.com/posts/1\")"
   ]
  },
  {
   "cell_type": "markdown",
   "id": "a5647903-ad14-4278-99db-fff30b580ec7",
   "metadata": {},
   "source": [
    "# Session Object"
   ]
  },
  {
   "cell_type": "code",
   "execution_count": 69,
   "id": "380d818c-783e-4136-8a90-737caab02bd8",
   "metadata": {},
   "outputs": [
    {
     "name": "stdout",
     "output_type": "stream",
     "text": [
      "{'cookies': {'sessioncookie': '123456789'}}\n"
     ]
    }
   ],
   "source": [
    "session = requests.Session()\n",
    "session.headers.update({\"User-Agent\": \"DataScientistBot/1.0\"})\n",
    "session.get(\"https://httpbin.org/cookies/set/sessioncookie/123456789\")\n",
    "response = session.get(\"https://httpbin.org/cookies\")\n",
    "print(response.json())"
   ]
  },
  {
   "cell_type": "markdown",
   "id": "fc94fa13-5174-4099-8366-20348b48974d",
   "metadata": {},
   "source": [
    "# Error Handling"
   ]
  },
  {
   "cell_type": "code",
   "execution_count": 68,
   "id": "5b092f8f-bfb5-4d0c-a47e-dc017757051c",
   "metadata": {},
   "outputs": [
    {
     "name": "stdout",
     "output_type": "stream",
     "text": [
      "HTTP Error: 404 Client Error: Not Found for url: https://jsonplaceholder.typicode.com/posts/101010\n"
     ]
    }
   ],
   "source": [
    "try:\n",
    "    res = requests.get(\"https://jsonplaceholder.typicode.com/posts/101010\", timeout = 3)\n",
    "    res.raise_for_status() \n",
    "except requests.exceptions.HTTPError as e:\n",
    "    print(\"HTTP Error:\", e)\n",
    "except requests.exceptions.ConnectionError:\n",
    "    print(\"Connection failed!\")"
   ]
  }
 ],
 "metadata": {
  "kernelspec": {
   "display_name": "Python 3 (ipykernel)",
   "language": "python",
   "name": "python3"
  },
  "language_info": {
   "codemirror_mode": {
    "name": "ipython",
    "version": 3
   },
   "file_extension": ".py",
   "mimetype": "text/x-python",
   "name": "python",
   "nbconvert_exporter": "python",
   "pygments_lexer": "ipython3",
   "version": "3.12.4"
  }
 },
 "nbformat": 4,
 "nbformat_minor": 5
}
