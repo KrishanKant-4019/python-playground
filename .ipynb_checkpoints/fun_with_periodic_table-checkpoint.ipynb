{
 "cells": [
  {
   "cell_type": "code",
   "execution_count": 8,
   "id": "501ce5c7-31d6-4191-9229-dd4a6ae023b0",
   "metadata": {},
   "outputs": [
    {
     "name": "stdin",
     "output_type": "stream",
     "text": [
      "Enter the Element Symbol:  h\n"
     ]
    },
    {
     "name": "stdout",
     "output_type": "stream",
     "text": [
      "Element: hydrogen\n",
      "Symbol: H\n",
      "Atomic Number: 1\n",
      "Atomic Mass: 1.008 u\n"
     ]
    }
   ],
   "source": [
    "import periodictable\n",
    "\n",
    "def get_element_info(symbol):\n",
    "    for element in periodictable.elements:\n",
    "        if element and element.symbol.lower() == symbol.lower():\n",
    "            print(f\"Element: {element.name}\")\n",
    "            print(f\"Symbol: {element.symbol}\")\n",
    "            print(f\"Atomic Number: {element.number}\")\n",
    "            print(f\"Atomic Mass: {element.mass} u\")\n",
    "            return\n",
    "    print(\"Element not found in the periodic table.\")\n",
    "\n",
    "if __name__ == \"__main__\":\n",
    "    symbol = input(\"Enter the Element Symbol: \").capitalize()\n",
    "    get_element_info(symbol)"
   ]
  }
 ],
 "metadata": {
  "kernelspec": {
   "display_name": "ML-Kernel",
   "language": "python",
   "name": "my_ml_env"
  },
  "language_info": {
   "codemirror_mode": {
    "name": "ipython",
    "version": 3
   },
   "file_extension": ".py",
   "mimetype": "text/x-python",
   "name": "python",
   "nbconvert_exporter": "python",
   "pygments_lexer": "ipython3",
   "version": "3.12.4"
  }
 },
 "nbformat": 4,
 "nbformat_minor": 5
}
